{
 "cells": [
  {
   "cell_type": "code",
   "execution_count": 9,
   "metadata": {},
   "outputs": [],
   "source": [
    "#Data \n",
    "revenue = [14574.49, 7606.46, 8611.41, 9175.41, 8058.65, 8105.44, 11496.28, 9766.09, 10305.32, 14379.96, 10713.97, 15433.50]\n",
    "expenses = [12051.82, 5695.07, 12319.20, 12089.72, 8658.57, 840.20, 3285.73, 5821.12, 6976.93, 16618.61, 10054.37, 3803.96]"
   ]
  },
  {
   "cell_type": "code",
   "execution_count": 43,
   "metadata": {},
   "outputs": [
    {
     "name": "stdout",
     "output_type": "stream",
     "text": [
      "[2, 1, -3, -2, 0, 7, 8, 3, 3, -2, 0, 11]\n",
      "[-7, -3, -9, -9, -6, 1, 0, -2, -3, -12, -6, 0]\n",
      "[-48, -39, -104, -98, -74, 12, 0, -20, -29, -83, -56, 0]\n",
      "['February', 'June', 'July', 'August', 'September', 'December']\n",
      "['January', 'March', 'April', 'May', 'October', 'November']\n",
      "['June']\n",
      "['October']\n"
     ]
    }
   ],
   "source": [
    "import numpy as np;\n",
    "months = ['January', 'February', 'March', 'April', 'May', 'June', 'July', 'August', 'September', 'October', 'November', 'December']\n",
    "ans1 = []\n",
    "ans2 = []\n",
    "ans3 = []\n",
    "ans4 = []\n",
    "ans5 = []\n",
    "ans6 = []\n",
    "ans7 = []\n",
    "\n",
    "for i in range(len(months)):\n",
    "    #profit for each month\n",
    "    ans1.append(int(round(revenue[i] - expenses[i], 2)/1000))\n",
    "\n",
    "    #profit after tax for each month (the tax rate is 30%)\n",
    "    ans2.append(int(round(0.3*revenue[i] - expenses[i], 2)/1000))\n",
    "\n",
    "    #profit margin for each month - equals to profit after tax divided by revenue\n",
    "    ans3.append(int(round(100*1000*ans2[i]/revenue[i], 2)))\n",
    "\n",
    "profit_arr = np.array(ans2)\n",
    "for i in range(len(expenses)):\n",
    "    if(ans2[i] > profit_arr.mean()):\n",
    "        #good months - where the profit after tax was greater than the mean for the year\n",
    "        ans4.append(months[i])\n",
    "    else:\n",
    "        #bad months - where the profit after tax was less than the mean for the year\n",
    "        ans5.append(months[i])\n",
    "\n",
    "    if(profit_arr.max() == profit_arr[i]):\n",
    "        #the best month - where the profit after tax was max for the year\n",
    "        ans6.append(months[i])\n",
    "    elif(profit_arr.min() == profit_arr[i]):\n",
    "        #the worst month - where the profit after tax was min for the year\n",
    "        ans7.append(months[i])\n",
    "    else:\n",
    "        pass\n",
    "\n",
    "print(ans1)\n",
    "print(ans2)\n",
    "print(ans3)\n",
    "print(ans4)\n",
    "print(ans5)\n",
    "print(ans6)\n",
    "print(ans7)"
   ]
  },
  {
   "cell_type": "code",
   "execution_count": null,
   "metadata": {},
   "outputs": [],
   "source": []
  }
 ],
 "metadata": {
  "kernelspec": {
   "display_name": "Python 3",
   "language": "python",
   "name": "python3"
  },
  "language_info": {
   "codemirror_mode": {
    "name": "ipython",
    "version": 3
   },
   "file_extension": ".py",
   "mimetype": "text/x-python",
   "name": "python",
   "nbconvert_exporter": "python",
   "pygments_lexer": "ipython3",
   "version": "3.7.6"
  }
 },
 "nbformat": 4,
 "nbformat_minor": 1
}
