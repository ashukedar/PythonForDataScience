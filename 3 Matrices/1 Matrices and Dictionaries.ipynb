{
 "cells": [
  {
   "cell_type": "code",
   "execution_count": 11,
   "metadata": {},
   "outputs": [
    {
     "name": "stdout",
     "output_type": "stream",
     "text": [
      "array\n",
      "[ 0  1  2  3  4  5  6  7  8  9 10 11 12 13 14 15 16 17 18 19]\n",
      "\n",
      "default c like matrix\n",
      "[[ 0  1  2  3]\n",
      " [ 4  5  6  7]\n",
      " [ 8  9 10 11]\n",
      " [12 13 14 15]\n",
      " [16 17 18 19]]\n",
      "\n",
      "fortran like matrix\n",
      "[[ 0  5 10 15]\n",
      " [ 1  6 11 16]\n",
      " [ 2  7 12 17]\n",
      " [ 3  8 13 18]\n",
      " [ 4  9 14 19]]\n"
     ]
    }
   ],
   "source": [
    "#Matrices\n",
    "import numpy as np;\n",
    "\n",
    "arr1 = np.arange(0,20)\n",
    "print(\"array\")\n",
    "print(arr1)\n",
    "\n",
    "matrix1 = arr1.reshape(5,4)\n",
    "print(\"\\ndefault c like matrix\")\n",
    "print(matrix1)\n",
    "\n",
    "# other way of calling reshape function\n",
    "matrix2 = np.reshape(arr1, (5,4), 'F')\n",
    "print(\"\\nfortran like matrix\")\n",
    "print(matrix2)"
   ]
  },
  {
   "cell_type": "code",
   "execution_count": 14,
   "metadata": {},
   "outputs": [
    {
     "name": "stdout",
     "output_type": "stream",
     "text": [
      "[['I' 'am' 'inevitable']\n",
      " ['I' 'am' 'iron man']\n",
      " ['1' '2' '3']]\n"
     ]
    }
   ],
   "source": [
    "r1=['I', 'am', 'inevitable']\n",
    "r2=['I', 'am', 'iron man']\n",
    "r3=[1,2,3]\n",
    "\n",
    "#Note that all data types are now strings\n",
    "matrix3 = np.array([r1,r2,r3])\n",
    "print(matrix3)"
   ]
  },
  {
   "cell_type": "markdown",
   "metadata": {},
   "source": [
    "---"
   ]
  },
  {
   "cell_type": "code",
   "execution_count": 15,
   "metadata": {},
   "outputs": [
    {
     "name": "stdout",
     "output_type": "stream",
     "text": [
      "{'key1': 'val1', 'key2': 'val2'}\n"
     ]
    }
   ],
   "source": [
    "#Dictionaries\n",
    "dict1 = {'key1':'val1','key2':'val2'}\n",
    "print(dict1)"
   ]
  },
  {
   "cell_type": "code",
   "execution_count": 18,
   "metadata": {},
   "outputs": [
    {
     "name": "stdout",
     "output_type": "stream",
     "text": [
      "val1\n"
     ]
    }
   ],
   "source": [
    "print(dict1['key1'])"
   ]
  }
 ],
 "metadata": {
  "kernelspec": {
   "display_name": "Python 3",
   "language": "python",
   "name": "python3"
  },
  "language_info": {
   "codemirror_mode": {
    "name": "ipython",
    "version": 3
   },
   "file_extension": ".py",
   "mimetype": "text/x-python",
   "name": "python",
   "nbconvert_exporter": "python",
   "pygments_lexer": "ipython3",
   "version": "3.7.6"
  }
 },
 "nbformat": 4,
 "nbformat_minor": 4
}
