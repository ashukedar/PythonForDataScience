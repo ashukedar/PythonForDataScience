{
 "cells": [
  {
   "cell_type": "code",
   "execution_count": 3,
   "metadata": {},
   "outputs": [],
   "source": [
    "import pandas as pd"
   ]
  },
  {
   "cell_type": "code",
   "execution_count": 4,
   "metadata": {},
   "outputs": [],
   "source": [
    "#Get data from csv file\n",
    "#Method 1:\n",
    "stats = pd.read_csv(\"C:\\\\Users\\\\ashutoshke\\\\Documents\\\\Python\\\\data.csv\")"
   ]
  },
  {
   "cell_type": "code",
   "execution_count": 5,
   "metadata": {},
   "outputs": [
    {
     "name": "stdout",
     "output_type": "stream",
     "text": [
      "             Country Name Country Code  Birth rate  Internet users  \\\n",
      "0                   Aruba          ABW      10.244            78.9   \n",
      "1             Afghanistan          AFG      35.253             5.9   \n",
      "2                  Angola          AGO      45.985            19.1   \n",
      "3                 Albania          ALB      12.877            57.2   \n",
      "4    United Arab Emirates          ARE      11.044            88.0   \n",
      "..                    ...          ...         ...             ...   \n",
      "190           Yemen, Rep.          YEM      32.947            20.0   \n",
      "191          South Africa          ZAF      20.850            46.5   \n",
      "192      Congo, Dem. Rep.          COD      42.394             2.2   \n",
      "193                Zambia          ZMB      40.471            15.4   \n",
      "194              Zimbabwe          ZWE      35.715            18.5   \n",
      "\n",
      "            Income Group  \n",
      "0            High income  \n",
      "1             Low income  \n",
      "2    Upper middle income  \n",
      "3    Upper middle income  \n",
      "4            High income  \n",
      "..                   ...  \n",
      "190  Lower middle income  \n",
      "191  Upper middle income  \n",
      "192           Low income  \n",
      "193  Lower middle income  \n",
      "194           Low income  \n",
      "\n",
      "[195 rows x 5 columns]\n",
      "<class 'pandas.core.frame.DataFrame'>\n"
     ]
    }
   ],
   "source": [
    "print(stats)"
   ]
  },
  {
   "cell_type": "markdown",
   "metadata": {},
   "source": [
    "---"
   ]
  },
  {
   "cell_type": "code",
   "execution_count": 8,
   "metadata": {},
   "outputs": [],
   "source": [
    "#General Operations on data frames"
   ]
  },
  {
   "cell_type": "code",
   "execution_count": 9,
   "metadata": {},
   "outputs": [
    {
     "name": "stdout",
     "output_type": "stream",
     "text": [
      "\n",
      "Number of rows\n",
      "195\n"
     ]
    }
   ],
   "source": [
    "#Number of rows\n",
    "print(\"\\nNumber of rows\")\n",
    "print(len(stats))"
   ]
  },
  {
   "cell_type": "code",
   "execution_count": 10,
   "metadata": {},
   "outputs": [
    {
     "name": "stdout",
     "output_type": "stream",
     "text": [
      "\n",
      "Column names\n",
      "Index(['Country Name', 'Country Code', 'Birth rate', 'Internet users',\n",
      "       'Income Group'],\n",
      "      dtype='object')\n"
     ]
    }
   ],
   "source": [
    "#Column names\n",
    "print(\"\\nColumn names\")\n",
    "print(stats.columns)"
   ]
  },
  {
   "cell_type": "code",
   "execution_count": 11,
   "metadata": {},
   "outputs": [
    {
     "name": "stdout",
     "output_type": "stream",
     "text": [
      "\n",
      "Number of Columns\n",
      "5\n"
     ]
    }
   ],
   "source": [
    "#Number of Columns\n",
    "print(\"\\nNumber of Columns\")\n",
    "print(len(stats.columns))"
   ]
  },
  {
   "cell_type": "code",
   "execution_count": 12,
   "metadata": {},
   "outputs": [
    {
     "name": "stdout",
     "output_type": "stream",
     "text": [
      "\n",
      "Top specific no. of rows\n",
      "           Country Name Country Code  Birth rate  Internet users  \\\n",
      "0                 Aruba          ABW      10.244            78.9   \n",
      "1           Afghanistan          AFG      35.253             5.9   \n",
      "2                Angola          AGO      45.985            19.1   \n",
      "3               Albania          ALB      12.877            57.2   \n",
      "4  United Arab Emirates          ARE      11.044            88.0   \n",
      "5             Argentina          ARG      17.716            59.9   \n",
      "\n",
      "          Income Group  \n",
      "0          High income  \n",
      "1           Low income  \n",
      "2  Upper middle income  \n",
      "3  Upper middle income  \n",
      "4          High income  \n",
      "5          High income  \n"
     ]
    }
   ],
   "source": [
    "#Top specific no. of rows\n",
    "print(\"\\nTop specific no. of rows\")\n",
    "print(stats.head(6))"
   ]
  },
  {
   "cell_type": "code",
   "execution_count": 13,
   "metadata": {},
   "outputs": [
    {
     "name": "stdout",
     "output_type": "stream",
     "text": [
      "\n",
      "Bottom specific no. of rows\n",
      "         Country Name Country Code  Birth rate  Internet users  \\\n",
      "189             Samoa          WSM      26.172            15.3   \n",
      "190       Yemen, Rep.          YEM      32.947            20.0   \n",
      "191      South Africa          ZAF      20.850            46.5   \n",
      "192  Congo, Dem. Rep.          COD      42.394             2.2   \n",
      "193            Zambia          ZMB      40.471            15.4   \n",
      "194          Zimbabwe          ZWE      35.715            18.5   \n",
      "\n",
      "            Income Group  \n",
      "189  Lower middle income  \n",
      "190  Lower middle income  \n",
      "191  Upper middle income  \n",
      "192           Low income  \n",
      "193  Lower middle income  \n",
      "194           Low income  \n"
     ]
    }
   ],
   "source": [
    "#Bottom specific no. of rows\n",
    "print(\"\\nBottom specific no. of rows\")\n",
    "print(stats.tail(6))"
   ]
  },
  {
   "cell_type": "code",
   "execution_count": 14,
   "metadata": {},
   "outputs": [
    {
     "name": "stdout",
     "output_type": "stream",
     "text": [
      "\n",
      "Column information\n",
      "<class 'pandas.core.frame.DataFrame'>\n",
      "RangeIndex: 195 entries, 0 to 194\n",
      "Data columns (total 5 columns):\n",
      " #   Column          Non-Null Count  Dtype  \n",
      "---  ------          --------------  -----  \n",
      " 0   Country Name    195 non-null    object \n",
      " 1   Country Code    195 non-null    object \n",
      " 2   Birth rate      195 non-null    float64\n",
      " 3   Internet users  195 non-null    float64\n",
      " 4   Income Group    195 non-null    object \n",
      "dtypes: float64(2), object(3)\n",
      "memory usage: 7.7+ KB\n",
      "None\n"
     ]
    }
   ],
   "source": [
    "#Column information\n",
    "print(\"\\nColumn information\")\n",
    "print(stats.info()) # like str() in R"
   ]
  },
  {
   "cell_type": "code",
   "execution_count": 15,
   "metadata": {},
   "outputs": [
    {
     "name": "stdout",
     "output_type": "stream",
     "text": [
      "\n",
      "Stats on column\n",
      "       Birth rate  Internet users\n",
      "count  195.000000      195.000000\n",
      "mean    21.469928       42.076471\n",
      "std     10.605467       29.030788\n",
      "min      7.900000        0.900000\n",
      "25%     12.120500       14.520000\n",
      "50%     19.680000       41.000000\n",
      "75%     29.759500       66.225000\n",
      "max     49.661000       96.546800\n"
     ]
    }
   ],
   "source": [
    "#Stats on column\n",
    "print(\"\\nStats on column\")\n",
    "print(stats.describe()) # like summary() in R"
   ]
  },
  {
   "cell_type": "code",
   "execution_count": 16,
   "metadata": {},
   "outputs": [
    {
     "name": "stdout",
     "output_type": "stream",
     "text": [
      "\n",
      "Easy to read stats on column\n",
      "                count       mean        std  min      25%    50%      75%  \\\n",
      "Birth rate      195.0  21.469928  10.605467  7.9  12.1205  19.68  29.7595   \n",
      "Internet users  195.0  42.076471  29.030788  0.9  14.5200  41.00  66.2250   \n",
      "\n",
      "                    max  \n",
      "Birth rate      49.6610  \n",
      "Internet users  96.5468  \n"
     ]
    }
   ],
   "source": [
    "#Easy to read stats on column\n",
    "print(\"\\nEasy to read stats on column\")\n",
    "print(stats.describe().transpose())"
   ]
  },
  {
   "cell_type": "code",
   "execution_count": 17,
   "metadata": {},
   "outputs": [
    {
     "name": "stdout",
     "output_type": "stream",
     "text": [
      "Index(['Country Name', 'Country Code', 'Birth rate', 'Internet users',\n",
      "       'Income Group'],\n",
      "      dtype='object')\n",
      "Index(['CountryName', 'CountryCode', 'BirthRate', 'InternetUsers',\n",
      "       'IncomeGroup'],\n",
      "      dtype='object')\n"
     ]
    }
   ],
   "source": [
    "#rename columns\n",
    "print(stats.columns)\n",
    "stats.columns = ['CountryName', 'CountryCode', 'BirthRate', 'InternetUsers',\n",
    "       'IncomeGroup']\n",
    "print(stats.columns)"
   ]
  },
  {
   "cell_type": "code",
   "execution_count": 18,
   "metadata": {},
   "outputs": [
    {
     "name": "stdout",
     "output_type": "stream",
     "text": [
      "   CountryName CountryCode  BirthRate  InternetUsers          IncomeGroup\n",
      "21      Belize         BLZ     23.092          33.60  Upper middle income\n",
      "23     Bolivia         BOL     24.236          36.94  Lower middle income\n",
      "25    Barbados         BRB     12.188          73.00          High income\n"
     ]
    }
   ],
   "source": [
    "#slice rows\n",
    "print(stats[21:26:2])"
   ]
  },
  {
   "cell_type": "code",
   "execution_count": 19,
   "metadata": {},
   "outputs": [
    {
     "name": "stdout",
     "output_type": "stream",
     "text": [
      "0                     Aruba\n",
      "1               Afghanistan\n",
      "2                    Angola\n",
      "3                   Albania\n",
      "4      United Arab Emirates\n",
      "               ...         \n",
      "190             Yemen, Rep.\n",
      "191            South Africa\n",
      "192        Congo, Dem. Rep.\n",
      "193                  Zambia\n",
      "194                Zimbabwe\n",
      "Name: CountryName, Length: 195, dtype: object\n"
     ]
    }
   ],
   "source": [
    "#get only one column\n",
    "# this is not data frame. It is series\n",
    "#stats.CountryName can also be used\n",
    "print(stats['CountryName']) # In R, stats$CountryName"
   ]
  },
  {
   "cell_type": "code",
   "execution_count": 20,
   "metadata": {},
   "outputs": [
    {
     "name": "stdout",
     "output_type": "stream",
     "text": [
      "    CountryCode           CountryName\n",
      "0           ABW                 Aruba\n",
      "1           AFG           Afghanistan\n",
      "2           AGO                Angola\n",
      "3           ALB               Albania\n",
      "4           ARE  United Arab Emirates\n",
      "..          ...                   ...\n",
      "190         YEM           Yemen, Rep.\n",
      "191         ZAF          South Africa\n",
      "192         COD      Congo, Dem. Rep.\n",
      "193         ZMB                Zambia\n",
      "194         ZWE              Zimbabwe\n",
      "\n",
      "[195 rows x 2 columns]\n"
     ]
    }
   ],
   "source": [
    "#slice column\n",
    "print(stats[['CountryCode', 'CountryName']])"
   ]
  },
  {
   "cell_type": "code",
   "execution_count": 21,
   "metadata": {},
   "outputs": [
    {
     "name": "stdout",
     "output_type": "stream",
     "text": [
      "   CountryCode CountryName\n",
      "21         BLZ      Belize\n",
      "23         BOL     Bolivia\n",
      "25         BRB    Barbados\n",
      "   CountryCode CountryName\n",
      "21         BLZ      Belize\n",
      "23         BOL     Bolivia\n",
      "25         BRB    Barbados\n"
     ]
    }
   ],
   "source": [
    "#slice by both row and column\n",
    "#order of row & column doesn't matter\n",
    "print(stats[21:26:2][['CountryCode', 'CountryName']])\n",
    "print(stats[['CountryCode', 'CountryName']][21:26:2])"
   ]
  },
  {
   "cell_type": "markdown",
   "metadata": {},
   "source": [
    "---"
   ]
  },
  {
   "cell_type": "code",
   "execution_count": 22,
   "metadata": {},
   "outputs": [],
   "source": [
    "#Mathamatical Operations"
   ]
  },
  {
   "cell_type": "code",
   "execution_count": 23,
   "metadata": {},
   "outputs": [
    {
     "name": "stdout",
     "output_type": "stream",
     "text": [
      "0      808.2516\n",
      "1      207.9927\n",
      "2      878.3135\n",
      "3      736.5644\n",
      "4      971.8720\n",
      "         ...   \n",
      "190    658.9400\n",
      "191    969.5250\n",
      "192     93.2668\n",
      "193    623.2534\n",
      "194    660.7275\n",
      "Length: 195, dtype: float64\n"
     ]
    }
   ],
   "source": [
    "#Multiple all rows of one column to all rows of other column\n",
    "#This returns Series again\n",
    "uselessInfo = stats.BirthRate * stats.InternetUsers\n",
    "print(uselessInfo)"
   ]
  },
  {
   "cell_type": "code",
   "execution_count": 24,
   "metadata": {},
   "outputs": [
    {
     "name": "stdout",
     "output_type": "stream",
     "text": [
      "            CountryName CountryCode  BirthRate  InternetUsers  \\\n",
      "0                 Aruba         ABW     10.244           78.9   \n",
      "1           Afghanistan         AFG     35.253            5.9   \n",
      "2                Angola         AGO     45.985           19.1   \n",
      "3               Albania         ALB     12.877           57.2   \n",
      "4  United Arab Emirates         ARE     11.044           88.0   \n",
      "\n",
      "           IncomeGroup  uselessInfo  \n",
      "0          High income     808.2516  \n",
      "1           Low income     207.9927  \n",
      "2  Upper middle income     878.3135  \n",
      "3  Upper middle income     736.5644  \n",
      "4          High income     971.8720  \n"
     ]
    }
   ],
   "source": [
    "#Add column in data frame\n",
    "stats['uselessInfo'] = uselessInfo\n",
    "print(stats.head())"
   ]
  },
  {
   "cell_type": "code",
   "execution_count": 25,
   "metadata": {},
   "outputs": [
    {
     "name": "stdout",
     "output_type": "stream",
     "text": [
      "            CountryName CountryCode  BirthRate  InternetUsers  \\\n",
      "0                 Aruba         ABW     10.244           78.9   \n",
      "1           Afghanistan         AFG     35.253            5.9   \n",
      "2                Angola         AGO     45.985           19.1   \n",
      "3               Albania         ALB     12.877           57.2   \n",
      "4  United Arab Emirates         ARE     11.044           88.0   \n",
      "\n",
      "           IncomeGroup  uselessInfo  \n",
      "0          High income     808.2516  \n",
      "1           Low income     207.9927  \n",
      "2  Upper middle income     878.3135  \n",
      "3  Upper middle income     736.5644  \n",
      "4          High income     971.8720  \n",
      "            CountryName CountryCode  BirthRate  InternetUsers  \\\n",
      "0                 Aruba         ABW     10.244           78.9   \n",
      "1           Afghanistan         AFG     35.253            5.9   \n",
      "2                Angola         AGO     45.985           19.1   \n",
      "3               Albania         ALB     12.877           57.2   \n",
      "4  United Arab Emirates         ARE     11.044           88.0   \n",
      "\n",
      "           IncomeGroup  \n",
      "0          High income  \n",
      "1           Low income  \n",
      "2  Upper middle income  \n",
      "3  Upper middle income  \n",
      "4          High income  \n"
     ]
    }
   ],
   "source": [
    "#Remove column in data frame\n",
    "#axis = 0 means row and axis = 1 means column\n",
    "correctStats = stats.drop('uselessInfo', axis=1)\n",
    "print(stats.head())\n",
    "print(correctStats.head())"
   ]
  },
  {
   "cell_type": "markdown",
   "metadata": {},
   "source": [
    "---"
   ]
  },
  {
   "cell_type": "code",
   "execution_count": 26,
   "metadata": {},
   "outputs": [],
   "source": [
    "#Filtering data frames"
   ]
  },
  {
   "cell_type": "code",
   "execution_count": 27,
   "metadata": {},
   "outputs": [
    {
     "name": "stdout",
     "output_type": "stream",
     "text": [
      "0     True\n",
      "1    False\n",
      "2    False\n",
      "3     True\n",
      "4     True\n",
      "Name: InternetUsers, dtype: bool\n",
      "            CountryName CountryCode  BirthRate  InternetUsers  \\\n",
      "0                 Aruba         ABW     10.244           78.9   \n",
      "3               Albania         ALB     12.877           57.2   \n",
      "4  United Arab Emirates         ARE     11.044           88.0   \n",
      "5             Argentina         ARG     17.716           59.9   \n",
      "7   Antigua and Barbuda         ATG     16.447           63.4   \n",
      "\n",
      "           IncomeGroup  uselessInfo  \n",
      "0          High income     808.2516  \n",
      "3  Upper middle income     736.5644  \n",
      "4          High income     971.8720  \n",
      "5          High income    1061.1884  \n",
      "7          High income    1042.7398  \n"
     ]
    }
   ],
   "source": [
    "FilterForMinimumInternetUser = stats.InternetUsers > 50\n",
    "print(FilterForMinimumInternetUser.head()) #Just like R\n",
    "\n",
    "countriesWithLessThan50InternetUsers = stats[FilterForMinimumInternetUser]\n",
    "print(countriesWithLessThan50InternetUsers.head()) #Just like R"
   ]
  },
  {
   "cell_type": "code",
   "execution_count": 28,
   "metadata": {},
   "outputs": [
    {
     "name": "stdout",
     "output_type": "stream",
     "text": [
      "          CountryName CountryCode  BirthRate  InternetUsers  \\\n",
      "2              Angola         AGO     45.985           19.1   \n",
      "11            Burundi         BDI     44.151            1.3   \n",
      "14       Burkina Faso         BFA     40.551            9.1   \n",
      "65        Gambia, The         GMB     42.525           14.0   \n",
      "115              Mali         MLI     44.138            3.5   \n",
      "127             Niger         NER     49.661            1.7   \n",
      "128           Nigeria         NGA     40.045           38.0   \n",
      "156           Somalia         SOM     43.891            1.5   \n",
      "167              Chad         TCD     45.745            2.3   \n",
      "178            Uganda         UGA     43.474           16.2   \n",
      "192  Congo, Dem. Rep.         COD     42.394            2.2   \n",
      "193            Zambia         ZMB     40.471           15.4   \n",
      "\n",
      "             IncomeGroup  uselessInfo  \n",
      "2    Upper middle income     878.3135  \n",
      "11            Low income      57.3963  \n",
      "14            Low income     369.0141  \n",
      "65            Low income     595.3500  \n",
      "115           Low income     154.4830  \n",
      "127           Low income      84.4237  \n",
      "128  Lower middle income    1521.7100  \n",
      "156           Low income      65.8365  \n",
      "167           Low income     105.2135  \n",
      "178           Low income     704.2788  \n",
      "192           Low income      93.2668  \n",
      "193  Lower middle income     623.2534  \n"
     ]
    }
   ],
   "source": [
    "print(stats[stats.BirthRate > 40])"
   ]
  },
  {
   "cell_type": "code",
   "execution_count": 29,
   "metadata": {},
   "outputs": [
    {
     "name": "stdout",
     "output_type": "stream",
     "text": [
      "          CountryName CountryCode  BirthRate  InternetUsers  \\\n",
      "2              Angola         AGO     45.985           19.1   \n",
      "14       Burkina Faso         BFA     40.551            9.1   \n",
      "65        Gambia, The         GMB     42.525           14.0   \n",
      "115              Mali         MLI     44.138            3.5   \n",
      "128           Nigeria         NGA     40.045           38.0   \n",
      "167              Chad         TCD     45.745            2.3   \n",
      "178            Uganda         UGA     43.474           16.2   \n",
      "192  Congo, Dem. Rep.         COD     42.394            2.2   \n",
      "193            Zambia         ZMB     40.471           15.4   \n",
      "\n",
      "             IncomeGroup  uselessInfo  \n",
      "2    Upper middle income     878.3135  \n",
      "14            Low income     369.0141  \n",
      "65            Low income     595.3500  \n",
      "115           Low income     154.4830  \n",
      "128  Lower middle income    1521.7100  \n",
      "167           Low income     105.2135  \n",
      "178           Low income     704.2788  \n",
      "192           Low income      93.2668  \n",
      "193  Lower middle income     623.2534  \n"
     ]
    }
   ],
   "source": [
    "#Filter on 2 columns simultanously\n",
    "# Works fine\n",
    "print(stats[(stats.BirthRate > 40) & (stats.InternetUsers > 2)])\n",
    "\n",
    "# Order of opertion is mandatory. So next line gives error\n",
    "# print(stats[stats.BirthRate > 40 & stats.InternetUsers > 50])\n",
    "\n",
    "# Works in R. Gives error in python\n",
    "# stats[(stats.BirthRate > 40) and (stats.InternetUsers > 50)]"
   ]
  },
  {
   "cell_type": "code",
   "execution_count": 30,
   "metadata": {},
   "outputs": [
    {
     "name": "stdout",
     "output_type": "stream",
     "text": [
      "['High income' 'Low income' 'Upper middle income' 'Lower middle income']\n"
     ]
    }
   ],
   "source": [
    "print(stats[\"IncomeGroup\"].unique())"
   ]
  },
  {
   "cell_type": "code",
   "execution_count": 31,
   "metadata": {},
   "outputs": [
    {
     "name": "stdout",
     "output_type": "stream",
     "text": [
      "       CountryName CountryCode  BirthRate  InternetUsers  IncomeGroup  \\\n",
      "17         Bahrain         BHR      15.04       90.00004  High income   \n",
      "22         Bermuda         BMU      10.40       95.30000  High income   \n",
      "47         Denmark         DNK      10.00       94.62970  High income   \n",
      "56         Finland         FIN      10.70       91.51440  High income   \n",
      "84         Iceland         ISL      13.40       96.54680  High income   \n",
      "102  Liechtenstein         LIE       9.20       93.80000  High income   \n",
      "106     Luxembourg         LUX      11.30       93.77650  High income   \n",
      "130    Netherlands         NLD      10.20       93.95640  High income   \n",
      "131         Norway         NOR      11.60       95.05340  High income   \n",
      "163         Sweden         SWE      11.80       94.78360  High income   \n",
      "\n",
      "     uselessInfo  \n",
      "17   1353.600597  \n",
      "22    991.120000  \n",
      "47    946.297000  \n",
      "56    979.204080  \n",
      "84   1293.727120  \n",
      "102   862.960000  \n",
      "106  1059.674450  \n",
      "130   958.355280  \n",
      "131  1102.619440  \n",
      "163  1118.446480  \n"
     ]
    }
   ],
   "source": [
    "# Could be used by Jio\n",
    "print(stats[(stats.IncomeGroup == 'High income') & (stats.InternetUsers > 90)])"
   ]
  },
  {
   "cell_type": "code",
   "execution_count": 32,
   "metadata": {},
   "outputs": [
    {
     "name": "stdout",
     "output_type": "stream",
     "text": [
      "    CountryName CountryCode  BirthRate  InternetUsers  IncomeGroup  \\\n",
      "116       Malta         MLT        9.5        68.9138  High income   \n",
      "\n",
      "     uselessInfo  \n",
      "116     654.6811  \n"
     ]
    }
   ],
   "source": [
    "# All about malta\n",
    "print(stats[stats.CountryName == 'Malta'])"
   ]
  },
  {
   "cell_type": "markdown",
   "metadata": {},
   "source": [
    "---"
   ]
  },
  {
   "cell_type": "code",
   "execution_count": 33,
   "metadata": {},
   "outputs": [],
   "source": [
    "#Accessing individual values"
   ]
  },
  {
   "cell_type": "code",
   "execution_count": 34,
   "metadata": {},
   "outputs": [
    {
     "name": "stdout",
     "output_type": "stream",
     "text": [
      "45.985\n",
      "45.985\n"
     ]
    }
   ],
   "source": [
    "# .at(): for accessing labels. integers are also labels\n",
    "# Gives value with row at label 2\n",
    "print(stats.at[2, 'BirthRate'])\n",
    "\n",
    "# .iat(): for integer location\n",
    "# Gives value with row that is at index 2\n",
    "print(stats.iat[2,2])"
   ]
  },
  {
   "cell_type": "markdown",
   "metadata": {},
   "source": [
    "---"
   ]
  },
  {
   "cell_type": "code",
   "execution_count": 53,
   "metadata": {},
   "outputs": [],
   "source": [
    "# Distribution"
   ]
  },
  {
   "cell_type": "code",
   "execution_count": null,
   "metadata": {},
   "outputs": [],
   "source": [
    "#seaborn package\n",
    "import matplotlib.pyplot as plt\n",
    "plt.rcParams['figure.figsize'] = 8,4\n",
    "import seaborn as sns\n",
    "%matplotlib inline\n",
    "\n",
    "#seaborn is build over matplotlib"
   ]
  },
  {
   "cell_type": "code",
   "execution_count": 63,
   "metadata": {},
   "outputs": [
    {
     "data": {
      "image/png": "[encoded data removed]",
      "text/plain": [
       "<Figure size 432x288 with 1 Axes>"
      ]
     },
     "metadata": {
      "needs_background": "light"
     },
     "output_type": "display_data"
    }
   ],
   "source": [
    "#Bins is number of divisions of data set\n",
    "vis1 = sns.distplot(stats.InternetUsers, bins = 5)"
   ]
  },
  {
   "cell_type": "code",
   "execution_count": 65,
   "metadata": {},
   "outputs": [
    {
     "data": {
      "image/png": "[encoded data removed]",
      "text/plain": [
       "<Figure size 432x288 with 1 Axes>"
      ]
     },
     "metadata": {
      "needs_background": "light"
     },
     "output_type": "display_data"
    }
   ],
   "source": [
    "#Plot x and y from stats data\n",
    "vis1 = sns.boxplot(data=stats, x=\"IncomeGroup\", y=\"BirthRate\")"
   ]
  },
  {
   "cell_type": "code",
   "execution_count": 76,
   "metadata": {},
   "outputs": [
    {
     "data": {
      "image/png": "[encoded data removed]",
      "text/plain": [
       "<Figure size 1151.12x504 with 1 Axes>"
      ]
     },
     "metadata": {
      "needs_background": "light"
     },
     "output_type": "display_data"
    }
   ],
   "source": [
    "#LM: Linear model\n",
    "#fit_reg: do we try to fit regression as linear?\n",
    "#hue: color different income group differently\n",
    "#lmpplot doesnt folow the rcParams['figure.figsize'], instead it has it's own size parameter\n",
    "#size is seperate here because we may have to comare multiple graphs, so, it works as grid facet\n",
    "#aspect is (size of y axis) / (size of x axis). It could be negative\n",
    "vis3 = sns.lmplot(data=stats, x=\"InternetUsers\", y=\"BirthRate\", fit_reg= False, hue=\"IncomeGroup\",\n",
    "                 size= 7, aspect= 2)"
   ]
  },
  {
   "cell_type": "markdown",
   "metadata": {},
   "source": [
    "---"
   ]
  },
  {
   "cell_type": "code",
   "execution_count": 78,
   "metadata": {},
   "outputs": [
    {
     "data": {
      "image/png": "[encoded data removed]",
      "text/plain": [
       "<Figure size 1151.12x504 with 1 Axes>"
      ]
     },
     "metadata": {
      "needs_background": "light"
     },
     "output_type": "display_data"
    }
   ],
   "source": [
    "#lmplot uses scatter_kws and linear_kws libraries\n",
    "#anthing we pass as parameter with scatter_kws is also taken by lmplot\n",
    "vis4 = sns.lmplot(data=stats, x=\"InternetUsers\", y=\"BirthRate\", fit_reg= False, hue=\"IncomeGroup\",\n",
    "                 size= 7, aspect= 2, scatter_kws={\"s\":150})"
   ]
  },
  {
   "cell_type": "markdown",
   "metadata": {},
   "source": [
    "Refer Seaborn gallery on google for more info"
   ]
  }
 ],
 "metadata": {
  "kernelspec": {
   "display_name": "Python 3",
   "language": "python",
   "name": "python3"
  },
  "language_info": {
   "codemirror_mode": {
    "name": "ipython",
    "version": 3
   },
   "file_extension": ".py",
   "mimetype": "text/x-python",
   "name": "python",
   "nbconvert_exporter": "python",
   "pygments_lexer": "ipython3",
   "version": "3.7.6"
  }
 },
 "nbformat": 4,
 "nbformat_minor": 4
}
